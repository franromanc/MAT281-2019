{
 "cells": [
  {
   "cell_type": "markdown",
   "metadata": {},
   "source": [
    "<img src=\"images/usm.png\" width=\"480\" height=\"240\" align=\"left\"/>"
   ]
  },
  {
   "cell_type": "markdown",
   "metadata": {},
   "source": [
    "# MAT281 - 2° Semestre 2019\n",
    "## Aplicaciones de la Matemática en la Ingeniería\n",
    "\n",
    "\n",
    "EL siguiente laboratorio debe realizarse de manera individual. No es posible copiar y pegar código de otros estudiantes. \n",
    "Pueden consultar internet (stackoverflow, por ejemplo), pero deben indicar sus fuentes cuando corresponda.\n",
    "\n",
    "**Nombre**: Francisca Román\n",
    "\n",
    "**Rol**: 201504529-1\n"
   ]
  },
  {
   "cell_type": "markdown",
   "metadata": {},
   "source": [
    "## Objetivos del laboratorio\n",
    "\n",
    "* Reforzar conceptos básicos de regresión lineal.\n"
   ]
  },
  {
   "cell_type": "markdown",
   "metadata": {},
   "source": [
    "## Contenidos\n",
    "\n",
    "* [Problema 01](#p1)\n"
   ]
  },
  {
   "cell_type": "markdown",
   "metadata": {},
   "source": [
    "<a id='p1'></a>\n",
    "## I.- Problema 01\n",
    "\n",
    "\n",
    "<img src=\"https://images-na.ssl-images-amazon.com/images/I/717VaRblQCL._UX679_.jpg\" width=\"360\" height=\"360\" align=\"center\"/>\n",
    "\n",
    "\n",
    "El conjunto de datos se denomina `serie_poleras.csv` y consta de las ventas de poleras durante los años del 2016 al 2019. \n",
    "\n",
    "El objetivo es predecir el precio de la polera basados en el número de ventas que se obtiene.\n",
    "\n",
    "\n",
    "Primero es necesario definir la [elasticidad](https://en.wikipedia.org/wiki/Elasticity_(economics)) (en el sentido económico). La **elasticidad demanda-precio** o simplemente **elasticidad de la demanda**, mide la variación relativa o porcentual que experimenta la cantidad demandada como consecuencia de una variación en el precio de un uno por ciento, en otras palabras mide la intensidad con la que responden los compradores a una variación en el precio.\n",
    "\n",
    "\n",
    "- Cuando la reducción del precio (P) hace que la cantidad demandada (Q) aumente tanto que la multiplicación de (P * Q) sea mayor a la original, se presenta una demanda elástica.E>1\n",
    "- Cuando la reducción del precio (P) hace que la cantidad demandada (Q) aumente en proporciones iguales y (P * Q) sea igual, la elasticidad es proporcional o igual a 1.\n",
    "- Cuando la reducción del precio (P) hace que la cantidad demandada (Q) aumente muy poco o nada que la multiplicación de (P * Q) es menor a la original, se afirma que la demanda de un bien es inelástica o rígida. E<1"
   ]
  },
  {
   "cell_type": "markdown",
   "metadata": {},
   "source": [
    "Este concepto será clave para realizar una correcta predición en los resultados. Ahora, a modo de ayuda, analicemos los datos."
   ]
  },
  {
   "cell_type": "code",
   "execution_count": 14,
   "metadata": {},
   "outputs": [],
   "source": [
    "import os\n",
    "import numpy as np\n",
    "import pandas as pd\n",
    "import matplotlib.pyplot as plt\n",
    "import seaborn as sns\n",
    "from sklearn import linear_model\n",
    "import statsmodels.api as sm\n",
    "from sklearn.model_selection import train_test_split\n",
    "import sklearn.model_selection\n",
    "\n",
    "%matplotlib inline\n",
    "sns.set_palette(\"deep\", desat=.6)\n",
    "sns.set_context(rc={\"figure.figsize\": (8, 4)})"
   ]
  },
  {
   "cell_type": "code",
   "execution_count": 3,
   "metadata": {},
   "outputs": [
    {
     "data": {
      "text/html": [
       "<div>\n",
       "<style scoped>\n",
       "    .dataframe tbody tr th:only-of-type {\n",
       "        vertical-align: middle;\n",
       "    }\n",
       "\n",
       "    .dataframe tbody tr th {\n",
       "        vertical-align: top;\n",
       "    }\n",
       "\n",
       "    .dataframe thead th {\n",
       "        text-align: right;\n",
       "    }\n",
       "</style>\n",
       "<table border=\"1\" class=\"dataframe\">\n",
       "  <thead>\n",
       "    <tr style=\"text-align: right;\">\n",
       "      <th></th>\n",
       "      <th>FECHA_LUNES</th>\n",
       "      <th>VENTA</th>\n",
       "      <th>PRECIO</th>\n",
       "      <th>STOCK</th>\n",
       "      <th>NAVIDAD</th>\n",
       "      <th>VERANO</th>\n",
       "      <th>PRIMAVERA</th>\n",
       "    </tr>\n",
       "  </thead>\n",
       "  <tbody>\n",
       "    <tr>\n",
       "      <th>0</th>\n",
       "      <td>2016-11-28</td>\n",
       "      <td>4031</td>\n",
       "      <td>482.629433</td>\n",
       "      <td>218477.00</td>\n",
       "      <td>0</td>\n",
       "      <td>1</td>\n",
       "      <td>1</td>\n",
       "    </tr>\n",
       "    <tr>\n",
       "      <th>1</th>\n",
       "      <td>2016-12-05</td>\n",
       "      <td>8236</td>\n",
       "      <td>496.487690</td>\n",
       "      <td>209313.00</td>\n",
       "      <td>0</td>\n",
       "      <td>1</td>\n",
       "      <td>1</td>\n",
       "    </tr>\n",
       "    <tr>\n",
       "      <th>2</th>\n",
       "      <td>2016-12-12</td>\n",
       "      <td>11798</td>\n",
       "      <td>490.107492</td>\n",
       "      <td>225950.00</td>\n",
       "      <td>0</td>\n",
       "      <td>1</td>\n",
       "      <td>1</td>\n",
       "    </tr>\n",
       "    <tr>\n",
       "      <th>3</th>\n",
       "      <td>2016-12-19</td>\n",
       "      <td>15749</td>\n",
       "      <td>527.144433</td>\n",
       "      <td>155811.00</td>\n",
       "      <td>1</td>\n",
       "      <td>1</td>\n",
       "      <td>1</td>\n",
       "    </tr>\n",
       "    <tr>\n",
       "      <th>4</th>\n",
       "      <td>2016-12-26</td>\n",
       "      <td>5838</td>\n",
       "      <td>476.613886</td>\n",
       "      <td>139957.99</td>\n",
       "      <td>0</td>\n",
       "      <td>1</td>\n",
       "      <td>1</td>\n",
       "    </tr>\n",
       "  </tbody>\n",
       "</table>\n",
       "</div>"
      ],
      "text/plain": [
       "  FECHA_LUNES  VENTA      PRECIO      STOCK  NAVIDAD  VERANO  PRIMAVERA\n",
       "0  2016-11-28   4031  482.629433  218477.00        0       1          1\n",
       "1  2016-12-05   8236  496.487690  209313.00        0       1          1\n",
       "2  2016-12-12  11798  490.107492  225950.00        0       1          1\n",
       "3  2016-12-19  15749  527.144433  155811.00        1       1          1\n",
       "4  2016-12-26   5838  476.613886  139957.99        0       1          1"
      ]
     },
     "execution_count": 3,
     "metadata": {},
     "output_type": "execute_result"
    }
   ],
   "source": [
    "# cargar datos\n",
    "df = pd.read_csv(os.path.join(\"data\",\"serie_poleras.csv\"), sep=\",\")\n",
    "\n",
    "df = df[['FECHA_LUNES',\n",
    "        'VENTA',\n",
    "        'PRECIO',\n",
    "         'STOCK',\n",
    "         'NAVIDAD',\n",
    "         'VERANO',\n",
    "        'PRIMAVERA']]\n",
    "\n",
    "df['FECHA_LUNES'] = pd.to_datetime(df['FECHA_LUNES'])\n",
    "df.head()"
   ]
  },
  {
   "cell_type": "code",
   "execution_count": 4,
   "metadata": {},
   "outputs": [
    {
     "data": {
      "text/plain": [
       "Timestamp('2019-08-26 00:00:00')"
      ]
     },
     "execution_count": 4,
     "metadata": {},
     "output_type": "execute_result"
    }
   ],
   "source": [
    "df[\"FECHA_LUNES\"].max()"
   ]
  },
  {
   "cell_type": "markdown",
   "metadata": {},
   "source": [
    "Le presentamos dos graficos de interés.\n",
    "\n",
    "### a) Precio vs ventas\n",
    "\n",
    "Dado que se quiere predecir el precio basado en las ventas de poleras, es necesario analizar la relación que existe entre ambos mediante un gráfico."
   ]
  },
  {
   "cell_type": "code",
   "execution_count": 5,
   "metadata": {},
   "outputs": [
    {
     "data": {
      "image/png": "[encoded data removed]",
      "text/plain": [
       "<Figure size 432x288 with 1 Axes>"
      ]
     },
     "metadata": {
      "needs_background": "light"
     },
     "output_type": "display_data"
    }
   ],
   "source": [
    "# parametros esteticos de seaborn\n",
    "sns.scatterplot(x='VENTA',\n",
    "           y='PRECIO',\n",
    "           data=df)\n",
    "plt.show()"
   ]
  },
  {
   "cell_type": "code",
   "execution_count": 7,
   "metadata": {},
   "outputs": [
    {
     "data": {
      "image/png": "[encoded data removed]",
      "text/plain": [
       "<Figure size 432x288 with 1 Axes>"
      ]
     },
     "metadata": {
      "needs_background": "light"
     },
     "output_type": "display_data"
    }
   ],
   "source": [
    "# parametros esteticos de seaborn\n",
    "\n",
    "ax = sns.scatterplot(x='FECHA_LUNES',\n",
    "           y='VENTA',\n",
    "           data=df)\n",
    "\n",
    "ax.set_xlim(df['FECHA_LUNES'].min(), df['FECHA_LUNES'].max())\n",
    "plt.show()"
   ]
  },
  {
   "cell_type": "markdown",
   "metadata": {},
   "source": [
    "Basado en la información presentada responda las siguientes preguntas:\n",
    "\n",
    "1. ¿ Cómo debería ser la relación entre las poleras (elásticidad)?, ¿ Cómo es en realidad la elasticidad ?.\n",
    "\n",
    "*Se debería observar una relación elástica, a medida que los precios disminuyen, la demanda debería aumentar. Sin embargo, pudiese ocurrir que en ciertas épocas del año (navidad, por ejemplo). la relación se vuelva inelástica, ya que en general, a pesar del precio, las personas tienden a comprar igual los regalos que desean sus seres queridos.\n",
    "\n",
    "2.  ¿ Cuáles son las variables claves en el problema ?, ¿ Se necesitan más variables ?.\n",
    "\n",
    "*Las variables claves en el problema serian la cantidad de ventas, precio y la fecha. Las variables como Invierno, Verano y temporada no son tan necesarias ya que estas se pueden inferir a partir de la variable Fecha.*\n",
    "\n",
    "3. ¿ Es necesario separar por fechas ?, en caso afirmativo, separe el conjunto de datos según su criterio.\n",
    "\n",
    "*Para hacer más fácil el análisis de datos se podrían separar por Estaciones del año. Esto facilita la visualización de los datos en los gráficos.*\n",
    "\n",
    "4. Realice un análisis exploratorio de los datos sobre las variables escogida en el punto 2. Ocupe estos resultados para interpretar de mejor forma el problema.\n",
    "\n",
    "\n",
    "5. Realice un ajuste de regresión lineal simple. Si es necesario, puede ocupar más de una regresión lineal simple según los casos encontrados. \n",
    "6. Realice predicciones de los precios para la venta de 10000,20000 y 30000 poleras."
   ]
  },
  {
   "cell_type": "code",
   "execution_count": 8,
   "metadata": {},
   "outputs": [
    {
     "data": {
      "text/html": [
       "<div>\n",
       "<style scoped>\n",
       "    .dataframe tbody tr th:only-of-type {\n",
       "        vertical-align: middle;\n",
       "    }\n",
       "\n",
       "    .dataframe tbody tr th {\n",
       "        vertical-align: top;\n",
       "    }\n",
       "\n",
       "    .dataframe thead th {\n",
       "        text-align: right;\n",
       "    }\n",
       "</style>\n",
       "<table border=\"1\" class=\"dataframe\">\n",
       "  <thead>\n",
       "    <tr style=\"text-align: right;\">\n",
       "      <th></th>\n",
       "      <th>columna</th>\n",
       "      <th>unicos</th>\n",
       "      <th>vacios</th>\n",
       "    </tr>\n",
       "  </thead>\n",
       "  <tbody>\n",
       "    <tr>\n",
       "      <th>0</th>\n",
       "      <td>FECHA_LUNES</td>\n",
       "      <td>144</td>\n",
       "      <td>0</td>\n",
       "    </tr>\n",
       "    <tr>\n",
       "      <th>0</th>\n",
       "      <td>VENTA</td>\n",
       "      <td>141</td>\n",
       "      <td>0</td>\n",
       "    </tr>\n",
       "    <tr>\n",
       "      <th>0</th>\n",
       "      <td>PRECIO</td>\n",
       "      <td>144</td>\n",
       "      <td>0</td>\n",
       "    </tr>\n",
       "  </tbody>\n",
       "</table>\n",
       "</div>"
      ],
      "text/plain": [
       "       columna  unicos  vacios\n",
       "0  FECHA_LUNES     144       0\n",
       "0        VENTA     141       0\n",
       "0       PRECIO     144       0"
      ]
     },
     "execution_count": 8,
     "metadata": {},
     "output_type": "execute_result"
    }
   ],
   "source": [
    "# Pregunta 4\n",
    "\n",
    "# resumen de la informacion\n",
    "\n",
    "def resumen_por_columna(df,cols):\n",
    "    pd_series = df[cols]\n",
    "    \n",
    "    # elementos distintos \n",
    "    l_unique = pd_series.unique()\n",
    "    \n",
    "    # elementos vacios\n",
    "    \n",
    "    l_vacios = pd_series[pd_series.isna()]\n",
    "    \n",
    "    df_info = pd.DataFrame({\n",
    "        'columna': [cols],\n",
    "        'unicos': [len(l_unique)],\n",
    "        'vacios': [len(l_vacios)]\n",
    "    })\n",
    "    \n",
    "    return df_info\n",
    "\n",
    "df_info=pd.concat([resumen_por_columna(df,'FECHA_LUNES'),resumen_por_columna(df,'VENTA'),resumen_por_columna(df,'PRECIO')])\n",
    "df_info"
   ]
  },
  {
   "cell_type": "code",
   "execution_count": 12,
   "metadata": {},
   "outputs": [
    {
     "data": {
      "text/html": [
       "<div>\n",
       "<style scoped>\n",
       "    .dataframe tbody tr th:only-of-type {\n",
       "        vertical-align: middle;\n",
       "    }\n",
       "\n",
       "    .dataframe tbody tr th {\n",
       "        vertical-align: top;\n",
       "    }\n",
       "\n",
       "    .dataframe thead th {\n",
       "        text-align: right;\n",
       "    }\n",
       "</style>\n",
       "<table border=\"1\" class=\"dataframe\">\n",
       "  <thead>\n",
       "    <tr style=\"text-align: right;\">\n",
       "      <th></th>\n",
       "      <th>VENTA</th>\n",
       "      <th>PRECIO</th>\n",
       "    </tr>\n",
       "  </thead>\n",
       "  <tbody>\n",
       "    <tr>\n",
       "      <th>count</th>\n",
       "      <td>144.000000</td>\n",
       "      <td>144.000000</td>\n",
       "    </tr>\n",
       "    <tr>\n",
       "      <th>mean</th>\n",
       "      <td>5201.590278</td>\n",
       "      <td>1088.131268</td>\n",
       "    </tr>\n",
       "    <tr>\n",
       "      <th>std</th>\n",
       "      <td>4484.738756</td>\n",
       "      <td>643.147624</td>\n",
       "    </tr>\n",
       "    <tr>\n",
       "      <th>min</th>\n",
       "      <td>773.000000</td>\n",
       "      <td>360.901438</td>\n",
       "    </tr>\n",
       "    <tr>\n",
       "      <th>25%</th>\n",
       "      <td>2111.250000</td>\n",
       "      <td>717.992834</td>\n",
       "    </tr>\n",
       "    <tr>\n",
       "      <th>50%</th>\n",
       "      <td>4647.000000</td>\n",
       "      <td>866.619836</td>\n",
       "    </tr>\n",
       "    <tr>\n",
       "      <th>75%</th>\n",
       "      <td>6200.500000</td>\n",
       "      <td>1040.930251</td>\n",
       "    </tr>\n",
       "    <tr>\n",
       "      <th>max</th>\n",
       "      <td>31151.000000</td>\n",
       "      <td>3356.729486</td>\n",
       "    </tr>\n",
       "  </tbody>\n",
       "</table>\n",
       "</div>"
      ],
      "text/plain": [
       "              VENTA       PRECIO\n",
       "count    144.000000   144.000000\n",
       "mean    5201.590278  1088.131268\n",
       "std     4484.738756   643.147624\n",
       "min      773.000000   360.901438\n",
       "25%     2111.250000   717.992834\n",
       "50%     4647.000000   866.619836\n",
       "75%     6200.500000  1040.930251\n",
       "max    31151.000000  3356.729486"
      ]
     },
     "execution_count": 12,
     "metadata": {},
     "output_type": "execute_result"
    }
   ],
   "source": [
    "df[[\"VENTA\",\"PRECIO\",\"FECHA_LUNES\"]].describe()"
   ]
  },
  {
   "cell_type": "code",
   "execution_count": 19,
   "metadata": {},
   "outputs": [],
   "source": [
    "# Pregunta 5\n",
    "\n",
    "# Regresion lineal simple\n",
    "\n",
    "X = df[['VENTA']]\n",
    "Y = df['PRECIO']\n",
    "\n",
    "\n",
    "# split dataset\n",
    "X_train, X_test, Y_train, Y_test = train_test_split(X, Y, test_size=0.2, random_state = 2) "
   ]
  },
  {
   "cell_type": "code",
   "execution_count": 20,
   "metadata": {},
   "outputs": [
    {
     "name": "stdout",
     "output_type": "stream",
     "text": [
      "\n",
      "modelo sin intercepto\n",
      "coeficientes:  [0.1350911]\n",
      "intercepto:  0.0\n"
     ]
    }
   ],
   "source": [
    "# ols sin intercepto\n",
    "model_1 = linear_model.LinearRegression(fit_intercept = False)\n",
    "model_train_1  = model_1.fit(X_train,Y_train)\n",
    "\n",
    "print('\\nmodelo sin intercepto')\n",
    "print('coeficientes: ',model_train_1.coef_)\n",
    "print('intercepto: ',model_train_1.intercept_)"
   ]
  },
  {
   "cell_type": "code",
   "execution_count": 17,
   "metadata": {},
   "outputs": [
    {
     "name": "stdout",
     "output_type": "stream",
     "text": [
      "modelo con intercepto\n",
      "coeficientes:  [0.02523904]\n",
      "intercepto:  962.928409041424\n"
     ]
    }
   ],
   "source": [
    "# ols con intercepto\n",
    "model_2 = linear_model.LinearRegression()\n",
    "model_train_2  = model_2.fit(X_train,Y_train)\n",
    "print('modelo con intercepto')\n",
    "print('coeficientes: ',model_train_2.coef_)\n",
    "print('intercepto: ',model_train_2.intercept_)"
   ]
  },
  {
   "cell_type": "code",
   "execution_count": 18,
   "metadata": {},
   "outputs": [
    {
     "data": {
      "text/plain": [
       "<matplotlib.legend.Legend at 0x1c1820e780>"
      ]
     },
     "execution_count": 18,
     "metadata": {},
     "output_type": "execute_result"
    },
    {
     "data": {
      "image/png": "[encoded data removed]",
      "text/plain": [
       "<Figure size 432x288 with 1 Axes>"
      ]
     },
     "metadata": {
      "needs_background": "light"
     },
     "output_type": "display_data"
    }
   ],
   "source": [
    "# Grafico con regresiones lineales incluidas\n",
    "\n",
    "Y_predict_1 = model_train_1.predict(X_test)\n",
    "Y_predict_2 = model_train_2.predict(X_test)\n",
    "\n",
    "plt.scatter(X_test, Y_test,  color='black')\n",
    "plt.plot(X_test, Y_predict_1, color='pink', linewidth=3, label='OLS_con_intercepto')\n",
    "plt.plot(X_test, Y_predict_2, color='purple', linewidth=3, label='OLS_sin_intercepto')\n",
    "plt.legend(loc='upper right')"
   ]
  },
  {
   "cell_type": "markdown",
   "metadata": {},
   "source": [
    "### Referencias\n",
    "\n",
    "* [A beginner’s guide to Linear Regression in Python with Scikit-Learn](https://towardsdatascience.com/a-beginners-guide-to-linear-regression-in-python-with-scikit-learn-83a8f7ae2b4f)\n"
   ]
  },
  {
   "cell_type": "code",
   "execution_count": 23,
   "metadata": {},
   "outputs": [
    {
     "name": "stdout",
     "output_type": "stream",
     "text": [
      "\n",
      "El precio de venta de 10.000 poleras es 1215.3187927442864\n",
      "\n",
      "El precio de venta de 20.000 poleras es 1467.7091764471488\n",
      "\n",
      "El precio de venta de 30.000 poleras es 1720.0995601500113\n"
     ]
    }
   ],
   "source": [
    "#Pregunta 6\n",
    "\n",
    "Lista=[10000, 20000, 30000]\n",
    "Y=model_train_2.predict(pd.DataFrame(Lista))\n",
    "print('\\nEl precio de venta de 10.000 poleras es',Y[0])\n",
    "print('\\nEl precio de venta de 20.000 poleras es',Y[1])\n",
    "print('\\nEl precio de venta de 30.000 poleras es',Y[2])"
   ]
  },
  {
   "cell_type": "code",
   "execution_count": null,
   "metadata": {},
   "outputs": [],
   "source": []
  }
 ],
 "metadata": {
  "kernelspec": {
   "display_name": "Python 3",
   "language": "python",
   "name": "python3"
  },
  "language_info": {
   "codemirror_mode": {
    "name": "ipython",
    "version": 3
   },
   "file_extension": ".py",
   "mimetype": "text/x-python",
   "name": "python",
   "nbconvert_exporter": "python",
   "pygments_lexer": "ipython3",
   "version": "3.7.3"
  }
 },
 "nbformat": 4,
 "nbformat_minor": 4
}
